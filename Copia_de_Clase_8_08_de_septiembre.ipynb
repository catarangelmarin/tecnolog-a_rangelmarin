{
  "nbformat": 4,
  "nbformat_minor": 0,
  "metadata": {
    "colab": {
      "provenance": [],
      "collapsed_sections": [],
      "toc_visible": true
    },
    "kernelspec": {
      "name": "python3",
      "display_name": "Python 3"
    },
    "language_info": {
      "name": "python"
    }
  },
  "cells": [
    {
      "cell_type": "code",
      "execution_count": null,
      "metadata": {
        "id": "OcAoOF2WqUGW"
      },
      "outputs": [],
      "source": [
        "\n"
      ]
    },
    {
      "cell_type": "markdown",
      "source": [
        "<center>\n",
        "\n",
        "#**COLEGIO SIGLO XXI - EL SOCORRO**\n",
        "#**PRESENTADO A : ING PAOLA ANDREA QUINTERO**\n",
        "#**PRESENTADO POR : CATALINA RANGEL MARÍN**\n",
        "#**GRADO DÉCIMO**\n",
        "#**8 SEPTIEMBRE 2022**"
      ],
      "metadata": {
        "id": "j8UnXeekreIN"
      }
    },
    {
      "cell_type": "markdown",
      "source": [
        "#**¿Qué es Python?**\n",
        "# Es un lenguaje de programación de alto nivel que se utiliza para desarrollar aplicaciones de todo tipo. A diferencia de otros lenguajes como Java o .NET, se trata de un lenguaje interpretado, es decir, que no es necesario compilarlo para ejecutar las aplicaciones escritas en Python, sino que se ejecutan directamente por el ordenador utilizando un programa denominado interpretador, por lo que no es necesario “traducirlo” a lenguaje máquina.\n",
        "\n",
        "#**Fecha de lanzamiento**: 1991\n",
        "\n",
        "#**Creadores**:Guido Van Rossum\n",
        "\n",
        "#**Recuperado de:**https://www.becas-santander.com/es/blog/python-que-es.html"
      ],
      "metadata": {
        "id": "L6Q8qCDk01pA"
      }
    },
    {
      "cell_type": "code",
      "source": [
        "print(\"Esto es una suma\")\n",
        "numero_uno= 5\n",
        "numero_dos= 9\n",
        "resultado= numero_uno + numero_dos\n",
        "print(resultado)"
      ],
      "metadata": {
        "colab": {
          "base_uri": "https://localhost:8080/"
        },
        "id": "DKmHC4k93DLL",
        "outputId": "623df3b9-22f2-4d3b-eaa3-842516569b2c"
      },
      "execution_count": null,
      "outputs": [
        {
          "output_type": "stream",
          "name": "stdout",
          "text": [
            "Esto es una suma\n",
            "14\n"
          ]
        }
      ]
    },
    {
      "cell_type": "code",
      "source": [
        "print(\"Esto es una resta\")\n",
        "numero_uno= 17\n",
        "numero_dos= 9\n",
        "resultado= numero_uno - numero_dos\n",
        "print(resultado)"
      ],
      "metadata": {
        "colab": {
          "base_uri": "https://localhost:8080/"
        },
        "id": "sHms6ud_3pM5",
        "outputId": "862b11bb-dcd5-44d0-c999-d7f8ff261268"
      },
      "execution_count": null,
      "outputs": [
        {
          "output_type": "stream",
          "name": "stdout",
          "text": [
            "Esto es una resta\n",
            "8\n"
          ]
        }
      ]
    },
    {
      "cell_type": "code",
      "source": [
        "print(\"Esto es una multiplicación\")\n",
        "numero_uno= 32\n",
        "numero_dos= 6\n",
        "resultado= numero_uno * numero_dos\n",
        "print(resultado)"
      ],
      "metadata": {
        "colab": {
          "base_uri": "https://localhost:8080/"
        },
        "id": "q-qDgrs-39hY",
        "outputId": "b844965c-f250-4e03-d498-50f2af8fcba3"
      },
      "execution_count": null,
      "outputs": [
        {
          "output_type": "stream",
          "name": "stdout",
          "text": [
            "Esto es una multiplicación\n",
            "192\n"
          ]
        }
      ]
    },
    {
      "cell_type": "code",
      "source": [
        "print(\"Esto es una división\")\n",
        "numero_uno= 80\n",
        "numero_dos= 4\n",
        "resultado= numero_uno / numero_dos\n",
        "print(resultado)"
      ],
      "metadata": {
        "colab": {
          "base_uri": "https://localhost:8080/"
        },
        "id": "n1YyiEHC4yX5",
        "outputId": "61146cf4-bcfc-47e4-fcf8-09ccae6f8f09"
      },
      "execution_count": null,
      "outputs": [
        {
          "output_type": "stream",
          "name": "stdout",
          "text": [
            "Esto es una división\n",
            "20.0\n"
          ]
        }
      ]
    },
    {
      "cell_type": "markdown",
      "source": [
        "#**Ejercicios de Tipos de Datos Simples**"
      ],
      "metadata": {
        "id": "8m1CvUF55Hjf"
      }
    },
    {
      "cell_type": "code",
      "source": [
        "peso = input(\"¿cuál es tu peso en kg?\")\n",
        "estatura = input(\"¿cuál es tu estatura en metros?\")\n",
        "imc = round(float(peso)/float(estatura)**2,2)\n",
        "print(\"tu índice de masa corporal es\" + str(imc))"
      ],
      "metadata": {
        "colab": {
          "base_uri": "https://localhost:8080/"
        },
        "id": "bpAGmOoO8BY_",
        "outputId": "a782e085-1c39-4f85-87b6-2eb486a16a2a"
      },
      "execution_count": null,
      "outputs": [
        {
          "output_type": "stream",
          "name": "stdout",
          "text": [
            "¿cuál es tu peso en kg?45\n",
            "¿cuál es tu estatura en metros?1.78\n",
            "tu índice de masa corporal es14.2\n"
          ]
        }
      ]
    },
    {
      "cell_type": "markdown",
      "source": [
        "##Ejercicio 1##\n",
        "Escribir un programa que pregunte el nombre del usuario en la consola y un número entero e imprima por pantalla el líneas distintas el nombre del usuario tantas veces como el número introducido."
      ],
      "metadata": {
        "id": "jOuLgYFjv605"
      }
    },
    {
      "cell_type": "code",
      "source": [
        "nombre = input(\"¿cómo te llamas? \")\n",
        "n = input(\"Introduce un número entero:\")\n",
        "print((nombre + \"\\n\") * int(n))\n"
      ],
      "metadata": {
        "colab": {
          "base_uri": "https://localhost:8080/"
        },
        "id": "nmvwIMTlwnip",
        "outputId": "2940e2b6-e2bd-4c16-98f9-9778427b345a"
      },
      "execution_count": null,
      "outputs": [
        {
          "output_type": "stream",
          "name": "stdout",
          "text": [
            "¿cómo te llamas? Cata\n",
            "Introduce un número entero:8\n",
            "Cata\n",
            "Cata\n",
            "Cata\n",
            "Cata\n",
            "Cata\n",
            "Cata\n",
            "Cata\n",
            "Cata\n",
            "\n"
          ]
        }
      ]
    },
    {
      "cell_type": "markdown",
      "source": [
        "##Ejercicio 2##\n",
        "Escribir un programa que pida al usuario su peso (en kg)y estatura (en metros)\n",
        ",calcule el índice de masa corporal y lo almacena en una variable, e imprima por pantalla la frase 'Tu índice de masa corporal es <imc>' donde '<imc>' es el índice de masa corporal calculado redondeado con dos decimales."
      ],
      "metadata": {
        "id": "JqAwykba0QSP"
      }
    },
    {
      "cell_type": "code",
      "source": [
        "peso = input(\"¿cuál es tu peso en kg?\")\n",
        "estatura = input(\"¿cuál es tu estatura en metros?\")\n",
        "imc = round(float(peso)/float(estatura)**2,2)\n",
        "print(\"Tu índice de masa corporal es \" + str(imc))"
      ],
      "metadata": {
        "colab": {
          "base_uri": "https://localhost:8080/"
        },
        "id": "0hefAypD1qIe",
        "outputId": "c87b2ccd-68be-4af3-a370-aa8a5a49cbf7"
      },
      "execution_count": null,
      "outputs": [
        {
          "output_type": "stream",
          "name": "stdout",
          "text": [
            "¿cuál es tu peso en kg?58\n",
            "¿cuál es tu estatura en metros?1.64\n",
            "Tu índice de masa corporal es 21.56\n"
          ]
        }
      ]
    },
    {
      "cell_type": "markdown",
      "source": [
        "#**LIBRERÍAS EN PYTHON**"
      ],
      "metadata": {
        "id": "AohAeNvP21qW"
      }
    }
  ]
}